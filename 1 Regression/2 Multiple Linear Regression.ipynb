{
 "cells": [
  {
   "cell_type": "code",
   "execution_count": 1,
   "id": "fceb6ff0",
   "metadata": {},
   "outputs": [],
   "source": [
    "%matplotlib notebook\n",
    "\n",
    "import numpy as np"
   ]
  },
  {
   "cell_type": "markdown",
   "id": "098fcb05",
   "metadata": {},
   "source": [
    "# Make regression data"
   ]
  },
  {
   "cell_type": "code",
   "execution_count": 10,
   "id": "adb3b5c8",
   "metadata": {},
   "outputs": [],
   "source": [
    "from sklearn.datasets import make_regression\n",
    "\n",
    "X, y = make_regression(n_samples=20, n_features=4, noise=40)"
   ]
  },
  {
   "cell_type": "markdown",
   "id": "94fb26d3",
   "metadata": {},
   "source": [
    "# Multiple Linear Regression Class"
   ]
  },
  {
   "cell_type": "code",
   "execution_count": 11,
   "id": "c9fd042b",
   "metadata": {},
   "outputs": [],
   "source": [
    "class LinearRegressionClass:\n",
    "    def __init__(self, X, y):\n",
    "        \n",
    "        #X = np.array([(Xi - np.mean(Xi))/(np.max(Xi) - np.min(Xi)) for Xi in X.T]).T # readily apply mean normalization\n",
    "        self.X = np.hstack((np.ones(len(X)).reshape(-1,1), X)) # features\n",
    "        self.y = y # labels\n",
    "        self.m, self.n = X.shape # number of rows (data points), number of features\n",
    "        \n",
    "    # Class Methods\n",
    "    def fit(self, α=1, max_iter=10**6, tols=10e-8):\n",
    "        '''\n",
    "            Looks for the best coefficients given the data using batch gradient descent.\n",
    "        '''\n",
    "        # Gradient descent\n",
    "        θ_old = np.random.rand(self.n+1) # random initial guess\n",
    "        for i in range(max_iter):\n",
    "            θ_new = θ_old - α * self.__grad(θ_old)\n",
    "            \n",
    "            # Stopping criterion\n",
    "            if np.linalg.norm(θ_new - θ_old) > tols:\n",
    "                θ_old = θ_new\n",
    "\n",
    "            else:\n",
    "                print(\"Converged after {} iterations.\".format(i))\n",
    "                break\n",
    "\n",
    "        # Best Model Coefficients\n",
    "        self.coef_ = θ_new \n",
    "        \n",
    "        # Compute for the linear regression model's score\n",
    "        predicted_y = np.array([self.coef_ @ Xi for Xi in self.X]) # predicted y for the X[i] data\n",
    "        SS_res = np.sum((self.y - predicted_y)**2)    \n",
    "        SS_tot = np.sum((self.y - self.y.mean())**2)\n",
    "        self.R2 = 1 - (SS_res/SS_tot) # Model Score\n",
    "    \n",
    "    \n",
    "    def predict(self, x_test):\n",
    "        x = np.insert(x_test, 0, 1)\n",
    "        return self.__h(x, self.coef_)\n",
    "\n",
    "    \n",
    "    # Private Methods    \n",
    "    def __h(self, x, θ): # Multiple linear regression model\n",
    "        return θ @ x\n",
    "        \n",
    "    def __grad(self, θ): # Gradient of the cost function\n",
    "        '''\n",
    "            Evaluates the gradient of the cost function.\n",
    "        '''\n",
    "        \n",
    "        # Partial derivative of the cost function wrt θ_k stored in the list DJDθ\n",
    "        DJDθ = np.zeros(self.n + 1)\n",
    "        for k in range(len(DJDθ)):\n",
    "            DJDθk = 0\n",
    "            for i in range(self.m):\n",
    "                DJDθk += (self.__h(self.X[i], θ) - self.y[i]) * self.X[i,k] # Note that X[0,k] = 1\n",
    "\n",
    "            DJDθ[k] = (1/self.m) * DJDθk\n",
    "\n",
    "        return DJDθ"
   ]
  },
  {
   "cell_type": "markdown",
   "id": "cfebe0d0",
   "metadata": {},
   "source": [
    "## Learn and Predict"
   ]
  },
  {
   "cell_type": "code",
   "execution_count": 12,
   "id": "ba0e7fb8",
   "metadata": {},
   "outputs": [
    {
     "name": "stdout",
     "output_type": "stream",
     "text": [
      "Converged after 35 iterations.\n",
      "[ 9.57877208 93.28826842 34.35876982 44.12625648 25.1721293 ] 0.9119502425137666\n"
     ]
    },
    {
     "data": {
      "text/plain": [
       "141.91639791495396"
      ]
     },
     "execution_count": 12,
     "metadata": {},
     "output_type": "execute_result"
    }
   ],
   "source": [
    "# Feed the data to the linear regression model with random initial parameters\n",
    "regtest = LinearRegressionClass(X, y) \n",
    "regtest.fit() # Learn from data\n",
    "\n",
    "# Print the coefficients and model score\n",
    "print(regtest.coef_, regtest.R2)\n",
    "\n",
    "# Make a prediction\n",
    "test_case = np.random.rand(len(X[0]))\n",
    "regtest.predict(test_case)"
   ]
  },
  {
   "cell_type": "code",
   "execution_count": null,
   "id": "85d63a45",
   "metadata": {},
   "outputs": [],
   "source": []
  },
  {
   "cell_type": "code",
   "execution_count": null,
   "id": "10a2e74a",
   "metadata": {},
   "outputs": [],
   "source": []
  },
  {
   "cell_type": "markdown",
   "id": "f9a9e1ac",
   "metadata": {},
   "source": [
    "# Compare with scikit-learn"
   ]
  },
  {
   "cell_type": "code",
   "execution_count": 13,
   "id": "8dfb34a7",
   "metadata": {
    "scrolled": true
   },
   "outputs": [
    {
     "name": "stdout",
     "output_type": "stream",
     "text": [
      "9.578772068774224 [93.28826844 34.35876981 44.12625649 25.17212929] 0.9119502425137666\n"
     ]
    },
    {
     "data": {
      "text/plain": [
       "141.91639790370007"
      ]
     },
     "execution_count": 13,
     "metadata": {},
     "output_type": "execute_result"
    }
   ],
   "source": [
    "from sklearn.linear_model import LinearRegression\n",
    "\n",
    "reg = LinearRegression().fit(X, y)\n",
    "print(reg.intercept_, reg.coef_, reg.score(X, y))\n",
    "reg.predict(np.array([test_case]))[0]"
   ]
  },
  {
   "cell_type": "markdown",
   "id": "2679a036",
   "metadata": {},
   "source": [
    "### In good agreement! Also works for higher-dimensional data although the code will run much slower."
   ]
  },
  {
   "cell_type": "code",
   "execution_count": null,
   "id": "d078e69e",
   "metadata": {},
   "outputs": [],
   "source": []
  }
 ],
 "metadata": {
  "kernelspec": {
   "display_name": "Python 3 (ipykernel)",
   "language": "python",
   "name": "python3"
  },
  "language_info": {
   "codemirror_mode": {
    "name": "ipython",
    "version": 3
   },
   "file_extension": ".py",
   "mimetype": "text/x-python",
   "name": "python",
   "nbconvert_exporter": "python",
   "pygments_lexer": "ipython3",
   "version": "3.8.13"
  }
 },
 "nbformat": 4,
 "nbformat_minor": 5
}
