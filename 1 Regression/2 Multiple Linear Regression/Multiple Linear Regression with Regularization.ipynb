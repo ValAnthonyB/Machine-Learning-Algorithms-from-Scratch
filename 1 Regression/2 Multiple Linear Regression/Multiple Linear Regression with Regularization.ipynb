{
 "cells": [
  {
   "cell_type": "code",
   "execution_count": 1,
   "id": "c5da62e1",
   "metadata": {},
   "outputs": [],
   "source": [
    "import numpy as np"
   ]
  },
  {
   "cell_type": "markdown",
   "id": "6243e483",
   "metadata": {},
   "source": [
    "# Regularized gradient descent"
   ]
  },
  {
   "cell_type": "code",
   "execution_count": 2,
   "id": "a4b19bf1",
   "metadata": {},
   "outputs": [],
   "source": [
    "class LinearRegressionClass:\n",
    "    def __init__(self):\n",
    "        self.coef_ = 0\n",
    "        self.intercept_ = 0\n",
    "        \n",
    "    # Class Methods\n",
    "    def fit(self, X, y, α=0.1, λ=0, max_iter=10**6, tols=10e-8):\n",
    "        '''\n",
    "            Looks for the best coefficients given the data using batch gradient descent.\n",
    "        '''\n",
    "        m, n = X.shape # number of rows (data points), number of features\n",
    "        \n",
    "        # Random initial guess for the weights and bias\n",
    "        old_weights = np.random.rand(n) \n",
    "        old_bias = 0\n",
    "        \n",
    "        # Gradient descent\n",
    "        for iteration in range(max_iter):\n",
    "            new_weights = old_weights*(1 - (α*λ/m)) - α*(1/m)*np.dot(X.T, (np.dot(X, old_weights) + old_bias - y))\n",
    "            new_bias = old_bias - α * (1/m) * np.sum(np.dot(X, old_weights) + old_bias - y)\n",
    "            \n",
    "            # Stopping criterion\n",
    "            if (np.linalg.norm(new_weights - old_weights) > tols) and (np.abs(new_bias - old_bias) > tols):\n",
    "                old_weights = new_weights\n",
    "                old_bias = new_bias\n",
    "\n",
    "            else:\n",
    "                print(\"Converged after {} iterations.\".format(iteration))\n",
    "                # Best Model Coefficients\n",
    "                self.coef_ = new_weights \n",
    "                self.intercept_ = new_bias\n",
    "                \n",
    "                break\n",
    "\n",
    "        # Compute for the linear regression model's score\n",
    "        predicted_y = np.array([np.dot(Xi, self.coef_) + self.intercept_ for Xi in X]) # predicted y for the X[i] data\n",
    "\n",
    "        SS_res = np.sum((y - predicted_y)**2)    \n",
    "        SS_tot = np.sum((y - y.mean())**2)\n",
    "        self.R2 = 1 - (SS_res/SS_tot) # Model Score\n",
    "    \n",
    "    \n",
    "    def predict(self, x_test):\n",
    "        #x = np.insert(x_test, 0, 1)\n",
    "        return np.dot(x_test, self.coef_) + self.intercept_"
   ]
  },
  {
   "cell_type": "markdown",
   "id": "b74bbe0c",
   "metadata": {},
   "source": [
    "# Make data"
   ]
  },
  {
   "cell_type": "code",
   "execution_count": 3,
   "id": "cf44f32b",
   "metadata": {},
   "outputs": [],
   "source": [
    "from sklearn.datasets import make_regression\n",
    "\n",
    "X, y = make_regression(n_samples=500, n_features=20, noise=20)"
   ]
  },
  {
   "cell_type": "markdown",
   "id": "f26a9adb",
   "metadata": {},
   "source": [
    "### Fit and Predict"
   ]
  },
  {
   "cell_type": "code",
   "execution_count": 4,
   "id": "1d0bf48c",
   "metadata": {},
   "outputs": [
    {
     "name": "stdout",
     "output_type": "stream",
     "text": [
      "Converged after 1810 iterations.\n",
      "[59.5500053  32.19848128  0.10775547 -1.56023012  1.36953462  0.75969074\n",
      " -0.66838078 37.61628656 47.41328549 -0.33045666 85.42280585 31.21587149\n",
      " -1.23863274 -1.90780094 -0.64094315 68.71275511 -0.20983064 23.71496193\n",
      " 44.97961748 27.22345266] 0.9784710429846897\n"
     ]
    }
   ],
   "source": [
    "# Feed the data to the linear regression model with random initial parameters\n",
    "regtest = LinearRegressionClass() \n",
    "regtest.fit(X, y, α=0.01, λ=50) # Learn from data\n",
    "\n",
    "# Print the coefficients and model score\n",
    "print(regtest.coef_, regtest.R2)"
   ]
  },
  {
   "cell_type": "markdown",
   "id": "55dce572",
   "metadata": {},
   "source": [
    "### Make prediction"
   ]
  },
  {
   "cell_type": "code",
   "execution_count": 5,
   "id": "f652e402",
   "metadata": {},
   "outputs": [
    {
     "data": {
      "text/plain": [
       "169.50225407319337"
      ]
     },
     "execution_count": 5,
     "metadata": {},
     "output_type": "execute_result"
    }
   ],
   "source": [
    "# Make a prediction\n",
    "test_case = np.random.rand(len(X[0]))\n",
    "regtest.predict(test_case)"
   ]
  },
  {
   "cell_type": "markdown",
   "id": "c3f2d506",
   "metadata": {},
   "source": [
    "### Scikit-learn"
   ]
  },
  {
   "cell_type": "code",
   "execution_count": 6,
   "id": "b35710e9",
   "metadata": {},
   "outputs": [
    {
     "name": "stdout",
     "output_type": "stream",
     "text": [
      "0.5837087690044243 [ 6.64309519e+01  3.53182098e+01  3.79237774e-01 -7.50490762e-01\n",
      "  9.36064064e-01  1.84373479e-03 -9.99875278e-01  4.22218262e+01\n",
      "  5.10919393e+01  2.72044306e-01  9.39258749e+01  3.42394763e+01\n",
      " -1.81352261e+00 -1.57563099e+00 -3.92429934e-01  7.68454916e+01\n",
      "  4.09069811e-02  2.63042804e+01  4.97512146e+01  3.05793983e+01] 0.9873123409913249\n"
     ]
    }
   ],
   "source": [
    "from sklearn.linear_model import LinearRegression\n",
    "\n",
    "reg = LinearRegression().fit(X, y)\n",
    "print(reg.intercept_, reg.coef_, reg.score(X, y))"
   ]
  },
  {
   "cell_type": "code",
   "execution_count": 7,
   "id": "c74003c8",
   "metadata": {},
   "outputs": [
    {
     "data": {
      "text/plain": [
       "185.8323844326846"
      ]
     },
     "execution_count": 7,
     "metadata": {},
     "output_type": "execute_result"
    }
   ],
   "source": [
    "reg.predict(np.array([test_case]))[0]"
   ]
  },
  {
   "cell_type": "code",
   "execution_count": null,
   "id": "48a46b6e",
   "metadata": {},
   "outputs": [],
   "source": []
  },
  {
   "cell_type": "code",
   "execution_count": null,
   "id": "d115e1f9",
   "metadata": {},
   "outputs": [],
   "source": []
  },
  {
   "cell_type": "markdown",
   "id": "3c28ac01",
   "metadata": {},
   "source": [
    "# Regularized normal equation"
   ]
  },
  {
   "cell_type": "code",
   "execution_count": 8,
   "id": "97e0a2ef",
   "metadata": {},
   "outputs": [],
   "source": [
    "class LinearRegressionNormalEquation_Regularization:\n",
    "    def __init__(self):\n",
    "        self.coef_ = None\n",
    "        \n",
    "    # Class Methods\n",
    "    def fit(self, X, y, λ=0):\n",
    "        '''\n",
    "        Input:\n",
    "            X = m x n array. The features matrix.\n",
    "            y = m x 1 array. The target variable.        \n",
    "        '''\n",
    "        m, n = X.shape\n",
    "        X = np.vstack((np.ones(len(X)), X.T)).T # column of ones in the first column\n",
    "        \n",
    "        # Normal equation\n",
    "        self.coef_ = np.linalg.inv((X.T @ X) + λ*np.diag(np.insert(np.ones(n),0, 0))) @ X.T @ y\n",
    "        \n",
    "        # Compute for the linear regression model's score\n",
    "        predicted_y = np.array([self.coef_ @ Xi for Xi in X])\n",
    "        \n",
    "        SS_res = 0\n",
    "        for i in range(m):\n",
    "            SS_res += (y[i] - predicted_y[i])**2\n",
    "            \n",
    "        SS_tot = 0\n",
    "        for i in range(m):\n",
    "            SS_tot += (y[i] - y.mean())**2\n",
    "        \n",
    "        self.R2 = 1 - (SS_res/SS_tot)\n",
    "        \n",
    "    \n",
    "    def predict(self, x_test):\n",
    "        x_test = np.array([np.insert(x_test[i], 0, 1) for i in range(len(x_test))])\n",
    "        return np.array([self.coef_ @ x_test_i for x_test_i in x_test])"
   ]
  },
  {
   "cell_type": "markdown",
   "id": "376d7176",
   "metadata": {},
   "source": [
    "### Test"
   ]
  },
  {
   "cell_type": "code",
   "execution_count": 9,
   "id": "b287a959",
   "metadata": {},
   "outputs": [],
   "source": [
    "# Feed the data to the linear regression model with random initial parameters\n",
    "regtestnormal = LinearRegressionNormalEquation_Regularization() \n",
    "regtestnormal.fit(X, y, λ=100) # Learn from data"
   ]
  },
  {
   "cell_type": "code",
   "execution_count": 10,
   "id": "e3fe9f0d",
   "metadata": {},
   "outputs": [
    {
     "data": {
      "text/plain": [
       "0.9579536688084703"
      ]
     },
     "execution_count": 10,
     "metadata": {},
     "output_type": "execute_result"
    }
   ],
   "source": [
    "regtestnormal.R2"
   ]
  },
  {
   "cell_type": "code",
   "execution_count": null,
   "id": "16a999ff",
   "metadata": {},
   "outputs": [],
   "source": []
  }
 ],
 "metadata": {
  "kernelspec": {
   "display_name": "Python 3 (ipykernel)",
   "language": "python",
   "name": "python3"
  },
  "language_info": {
   "codemirror_mode": {
    "name": "ipython",
    "version": 3
   },
   "file_extension": ".py",
   "mimetype": "text/x-python",
   "name": "python",
   "nbconvert_exporter": "python",
   "pygments_lexer": "ipython3",
   "version": "3.8.13"
  }
 },
 "nbformat": 4,
 "nbformat_minor": 5
}
