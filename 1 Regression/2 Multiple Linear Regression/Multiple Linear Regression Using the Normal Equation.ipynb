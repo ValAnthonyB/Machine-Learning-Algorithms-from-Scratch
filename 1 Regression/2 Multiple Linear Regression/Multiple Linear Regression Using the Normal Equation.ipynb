{
 "cells": [
  {
   "cell_type": "code",
   "execution_count": 1,
   "id": "d4656e98",
   "metadata": {},
   "outputs": [],
   "source": [
    "%matplotlib notebook\n",
    "\n",
    "import numpy as np\n",
    "import matplotlib.pyplot as plt"
   ]
  },
  {
   "cell_type": "markdown",
   "id": "0ca8b5f8",
   "metadata": {},
   "source": [
    "# Multiple linear regression using the normal equation\n",
    "\n",
    "The multiple linear regression model is as follows:\n",
    "    $$h(x) = \\theta_0 + \\theta_1 x_1 + \\theta_2 x_2 + \\ldots +\\theta_n x_n$$\n",
    "Once again, the best parameters can be solved analytically from\n",
    "    $$\\theta = (X^T X)^{-1} X^T y$$\n",
    "Explanation: Least squares in linear algebra."
   ]
  },
  {
   "cell_type": "code",
   "execution_count": 64,
   "id": "4fcd8184",
   "metadata": {},
   "outputs": [],
   "source": [
    "class MultipleLinearRegressionMyClass:\n",
    "    def __init__(self, X, y):\n",
    "        '''\n",
    "    Input:\n",
    "        X = m x n array. The features matrix.\n",
    "        y = m x 1 array. The target variable.        \n",
    "    '''\n",
    "        self.X = np.vstack((np.ones(len(X)), X.T)).T\n",
    "        self.y = y\n",
    "        self.m = len(X)\n",
    "        \n",
    "    # Class Methods\n",
    "    def fit(self):\n",
    "        \n",
    "        # Normal equation\n",
    "        self.coef_ = np.linalg.inv(self.X.T @ self.X) @ self.X.T @ self.y\n",
    "        \n",
    "        # Compute for the linear regression model's score\n",
    "        predicted_y = np.array([self.coef_ @ Xi for Xi in self.X])\n",
    "        \n",
    "        SS_res = 0\n",
    "        for i in range(self.m):\n",
    "            SS_res += (self.y[i] - predicted_y[i])**2\n",
    "            \n",
    "        SS_tot = 0\n",
    "        for i in range(self.m):\n",
    "            SS_tot += (self.y[i] - self.y.mean())**2\n",
    "        \n",
    "        self.R2 = 1 - (SS_res/SS_tot)\n",
    "        \n",
    "    \n",
    "    def predict(self, x_test):\n",
    "        x_test = np.array([np.insert(x_test[i], 0, 1) for i in range(len(x_test))])\n",
    "        return np.array([self.coef_ @ x_test_i for x_test_i in x_test])"
   ]
  },
  {
   "cell_type": "markdown",
   "id": "aa6e0c3d",
   "metadata": {},
   "source": [
    "# Test the function"
   ]
  },
  {
   "cell_type": "markdown",
   "id": "b86e758d",
   "metadata": {},
   "source": [
    "### Make regression data"
   ]
  },
  {
   "cell_type": "code",
   "execution_count": 60,
   "id": "0be940b1",
   "metadata": {},
   "outputs": [],
   "source": [
    "from sklearn.datasets import make_regression\n",
    "\n",
    "X, y = make_regression(n_samples=20, n_features=2, noise=25)"
   ]
  },
  {
   "cell_type": "markdown",
   "id": "50e56dc3",
   "metadata": {},
   "source": [
    "### Fit the data"
   ]
  },
  {
   "cell_type": "code",
   "execution_count": 61,
   "id": "5476f410",
   "metadata": {},
   "outputs": [
    {
     "name": "stdout",
     "output_type": "stream",
     "text": [
      "[-6.5242594  12.88949055 81.82963379] 0.950160069993895\n"
     ]
    }
   ],
   "source": [
    "regtest = MultipleLinearRegressionMyClass(X,y)\n",
    "regtest.fit()\n",
    "print(regtest.coef_, regtest.R2)"
   ]
  },
  {
   "cell_type": "markdown",
   "id": "fe0c7dc2",
   "metadata": {},
   "source": [
    "### Make predictions"
   ]
  },
  {
   "cell_type": "code",
   "execution_count": 62,
   "id": "50fa8d25",
   "metadata": {},
   "outputs": [
    {
     "data": {
      "text/plain": [
       "array([251.85413252, 264.74362306])"
      ]
     },
     "execution_count": 62,
     "metadata": {},
     "output_type": "execute_result"
    }
   ],
   "source": [
    "regtest.predict(np.array([[1,3],[2,3]]))"
   ]
  },
  {
   "cell_type": "code",
   "execution_count": null,
   "id": "56d478d0",
   "metadata": {},
   "outputs": [],
   "source": []
  },
  {
   "cell_type": "code",
   "execution_count": null,
   "id": "e34ebc49",
   "metadata": {},
   "outputs": [],
   "source": []
  },
  {
   "cell_type": "markdown",
   "id": "ec8ba6b1",
   "metadata": {},
   "source": [
    "# Scikit-learn"
   ]
  },
  {
   "cell_type": "code",
   "execution_count": 63,
   "id": "743e7f75",
   "metadata": {},
   "outputs": [
    {
     "name": "stdout",
     "output_type": "stream",
     "text": [
      "-6.5242593984490185 [12.88949055 81.82963379] 0.950160069993895\n"
     ]
    }
   ],
   "source": [
    "from sklearn.linear_model import LinearRegression\n",
    "\n",
    "reg = LinearRegression().fit(X, y)\n",
    "print(reg.intercept_, reg.coef_, reg.score(X, y))"
   ]
  }
 ],
 "metadata": {
  "kernelspec": {
   "display_name": "Python 3 (ipykernel)",
   "language": "python",
   "name": "python3"
  },
  "language_info": {
   "codemirror_mode": {
    "name": "ipython",
    "version": 3
   },
   "file_extension": ".py",
   "mimetype": "text/x-python",
   "name": "python",
   "nbconvert_exporter": "python",
   "pygments_lexer": "ipython3",
   "version": "3.8.13"
  }
 },
 "nbformat": 4,
 "nbformat_minor": 5
}
