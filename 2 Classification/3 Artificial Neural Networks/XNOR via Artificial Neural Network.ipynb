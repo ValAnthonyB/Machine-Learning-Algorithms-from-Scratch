{
 "cells": [
  {
   "cell_type": "code",
   "execution_count": 6,
   "id": "1bb0b1aa",
   "metadata": {},
   "outputs": [],
   "source": [
    "import numpy as np"
   ]
  },
  {
   "cell_type": "markdown",
   "id": "5e53bd7f",
   "metadata": {},
   "source": [
    "# Sigmoid function"
   ]
  },
  {
   "cell_type": "code",
   "execution_count": 91,
   "id": "ec81184a",
   "metadata": {},
   "outputs": [],
   "source": [
    "def sigmoid(x):\n",
    "    return 1/(1 + np.exp(-x))"
   ]
  },
  {
   "cell_type": "markdown",
   "id": "d7f7b29d",
   "metadata": {},
   "source": [
    "# Weights"
   ]
  },
  {
   "cell_type": "code",
   "execution_count": 92,
   "id": "606f761f",
   "metadata": {},
   "outputs": [],
   "source": [
    "Θ = [[[-30, 20, 20], [10, -20, -20]], [-10,20,20]]"
   ]
  },
  {
   "cell_type": "markdown",
   "id": "f17f2a3f",
   "metadata": {},
   "source": [
    "# Features"
   ]
  },
  {
   "cell_type": "code",
   "execution_count": 93,
   "id": "ac18790e",
   "metadata": {},
   "outputs": [],
   "source": [
    "x = [1,1,1] # [1, x_1, x_2] where x_1, x_2 ϵ {0,1}\n",
    "a = np.array(x)"
   ]
  },
  {
   "cell_type": "markdown",
   "id": "492b1736",
   "metadata": {},
   "source": [
    "# Make prediction"
   ]
  },
  {
   "cell_type": "code",
   "execution_count": 94,
   "id": "dd1f06ef",
   "metadata": {},
   "outputs": [
    {
     "name": "stdout",
     "output_type": "stream",
     "text": [
      "x1, x2 = [1, 1]\n",
      "Answer: 1\n"
     ]
    }
   ],
   "source": [
    "n_layers = 2 # 1 hidden layer and 1 output layer\n",
    "print('x1, x2 = {}'.format(x[1:]))\n",
    "for j in range(n_layers): \n",
    "    z = np.dot(Θ[j], a)\n",
    "    a = sigmoid(z)\n",
    "    \n",
    "    if j == n_layers-1: # Output layer\n",
    "        if np.isclose(0, a, atol=0.01):\n",
    "            print('Answer: {}'.format(0))\n",
    "            \n",
    "        else:\n",
    "            print('Answer: {}'.format(1))\n",
    "        \n",
    "    else:\n",
    "        # Add 1 in the first index because x_0 = 1\n",
    "        a = np.insert(a, 0, 1)"
   ]
  }
 ],
 "metadata": {
  "kernelspec": {
   "display_name": "Python 3 (ipykernel)",
   "language": "python",
   "name": "python3"
  },
  "language_info": {
   "codemirror_mode": {
    "name": "ipython",
    "version": 3
   },
   "file_extension": ".py",
   "mimetype": "text/x-python",
   "name": "python",
   "nbconvert_exporter": "python",
   "pygments_lexer": "ipython3",
   "version": "3.8.13"
  }
 },
 "nbformat": 4,
 "nbformat_minor": 5
}
