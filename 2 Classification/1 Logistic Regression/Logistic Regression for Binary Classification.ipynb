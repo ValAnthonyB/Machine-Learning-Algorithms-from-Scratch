{
 "cells": [
  {
   "cell_type": "code",
   "execution_count": 1,
   "id": "b868d78e",
   "metadata": {},
   "outputs": [],
   "source": [
    "import numpy as np"
   ]
  },
  {
   "cell_type": "markdown",
   "id": "380fc3fd",
   "metadata": {},
   "source": [
    "# Hypothesis\n",
    "$$h(x) = \\frac{1}{1 + e^{-\\theta^T x + b}}$$\n",
    "\n",
    "# Cost function\n",
    "$$J(\\theta) = -\\frac1m \\sum_{i=1}^{m} \\left[y^{(i)}\\log(h(x^{(i)})) + (1-y^{(i)}) \\log(1-h(x^{(i)}))\\right] $$\n",
    "\n",
    "# Partial derivatives of the cost function\n",
    "$$\\frac{\\partial J}{\\partial \\theta_j} = \\frac1m \\sum_{i=1}^{m} (h(x^{(i)}) - y^{(i)}) x_j^{(i)}$$"
   ]
  },
  {
   "cell_type": "code",
   "execution_count": 2,
   "id": "7fad0def",
   "metadata": {},
   "outputs": [],
   "source": [
    "class LogisticRegression:\n",
    "    \n",
    "    def __init__(self):\n",
    "        self.weights = None\n",
    "        self.bias = None\n",
    "        \n",
    "    # Class methods\n",
    "    def fit(self, X, y, α=0.001, max_iter=10**6, tols=1e-8):\n",
    "        m, n = X.shape\n",
    "        old_weights = np.zeros(n)\n",
    "        old_bias = 0\n",
    "        \n",
    "        # Gradient descent\n",
    "        for _ in range(max_iter):\n",
    "            new_weights = old_weights - α * (1/m) * np.dot(X.T, (self.__sigmoid(np.dot(X, old_weights) + old_bias) - y))\n",
    "            new_bias = old_bias - α * (1/m) * np.sum(self.__sigmoid(np.dot(X, old_weights) + old_bias) - y)\n",
    "            \n",
    "            # Stopping criterion\n",
    "            if (np.linalg.norm(new_weights - old_weights) > tols) and (np.abs(new_bias - old_bias) > tols):\n",
    "                old_weights = new_weights\n",
    "                old_bias = new_bias\n",
    "                \n",
    "            else:\n",
    "                print(\"Converged after {} iterations.\".format(_))\n",
    "                break\n",
    "                \n",
    "        # Best wieghts and bias\n",
    "        self.weights = new_weights\n",
    "        self.bias = new_bias\n",
    "    \n",
    "    def predict(self, X):\n",
    "        y_predicted = self.__sigmoid(np.dot(X, self.weights) + self.bias)\n",
    "        return np.array([1 if i >= 0.5 else 0 for i in y_predicted])\n",
    "    \n",
    "    def accuracy_score(self, y_test_true, y_test_pred):\n",
    "        return np.sum(y_test_true == y_test_pred) / len(y_test_true)\n",
    "    \n",
    "    def __sigmoid(self,z):\n",
    "        return 1 / (1 + np.exp(-z))"
   ]
  },
  {
   "cell_type": "markdown",
   "id": "c23fc3e2",
   "metadata": {},
   "source": [
    "# Import breast cancer dataset"
   ]
  },
  {
   "cell_type": "code",
   "execution_count": 3,
   "id": "a39a64ce",
   "metadata": {},
   "outputs": [],
   "source": [
    "from sklearn.datasets import load_breast_cancer\n",
    "\n",
    "bc_data = load_breast_cancer()\n",
    "X, y = bc_data.data, bc_data.target\n",
    "\n",
    "\n",
    "# Split into train and test samples\n",
    "from sklearn.model_selection import train_test_split\n",
    "\n",
    "X_train, X_test, y_train, y_test = train_test_split(X, y, test_size=0.2)"
   ]
  },
  {
   "cell_type": "markdown",
   "id": "39beedd8",
   "metadata": {},
   "source": [
    "# Train the model"
   ]
  },
  {
   "cell_type": "code",
   "execution_count": 4,
   "id": "6e1326a9",
   "metadata": {},
   "outputs": [
    {
     "name": "stdout",
     "output_type": "stream",
     "text": [
      "Converged after 611 iterations.\n"
     ]
    }
   ],
   "source": [
    "logit = LogisticRegression()\n",
    "logit.fit(X_train,y_train, α=0.0001)"
   ]
  },
  {
   "cell_type": "markdown",
   "id": "42cb837a",
   "metadata": {},
   "source": [
    "# Make predictions"
   ]
  },
  {
   "cell_type": "code",
   "execution_count": 5,
   "id": "234aa630",
   "metadata": {},
   "outputs": [],
   "source": [
    "y_test_predicted = logit.predict(X_test)"
   ]
  },
  {
   "cell_type": "markdown",
   "id": "fb95debe",
   "metadata": {},
   "source": [
    "# Accuracy Score"
   ]
  },
  {
   "cell_type": "code",
   "execution_count": 6,
   "id": "c09f4873",
   "metadata": {},
   "outputs": [
    {
     "data": {
      "text/plain": [
       "0.8947368421052632"
      ]
     },
     "execution_count": 6,
     "metadata": {},
     "output_type": "execute_result"
    }
   ],
   "source": [
    "logit.accuracy_score(y_test, y_test_predicted)"
   ]
  },
  {
   "cell_type": "code",
   "execution_count": null,
   "id": "dcfcfabb",
   "metadata": {},
   "outputs": [],
   "source": []
  },
  {
   "cell_type": "code",
   "execution_count": null,
   "id": "f8bdf51c",
   "metadata": {},
   "outputs": [],
   "source": []
  },
  {
   "cell_type": "markdown",
   "id": "7a73b6dd",
   "metadata": {},
   "source": [
    "# Scikit-learn implementation"
   ]
  },
  {
   "cell_type": "code",
   "execution_count": 7,
   "id": "0769ff2f",
   "metadata": {},
   "outputs": [
    {
     "name": "stderr",
     "output_type": "stream",
     "text": [
      "C:\\Users\\tonba\\anaconda3\\lib\\site-packages\\sklearn\\linear_model\\_logistic.py:814: ConvergenceWarning: lbfgs failed to converge (status=1):\n",
      "STOP: TOTAL NO. of ITERATIONS REACHED LIMIT.\n",
      "\n",
      "Increase the number of iterations (max_iter) or scale the data as shown in:\n",
      "    https://scikit-learn.org/stable/modules/preprocessing.html\n",
      "Please also refer to the documentation for alternative solver options:\n",
      "    https://scikit-learn.org/stable/modules/linear_model.html#logistic-regression\n",
      "  n_iter_i = _check_optimize_result(\n"
     ]
    }
   ],
   "source": [
    "from sklearn.linear_model import LogisticRegression as sklearnLogit\n",
    "\n",
    "clf = sklearnLogit(random_state=0).fit(X_train, y_train)"
   ]
  },
  {
   "cell_type": "code",
   "execution_count": 8,
   "id": "17d27789",
   "metadata": {},
   "outputs": [
    {
     "data": {
      "text/plain": [
       "0.9210526315789473"
      ]
     },
     "execution_count": 8,
     "metadata": {},
     "output_type": "execute_result"
    }
   ],
   "source": [
    "from sklearn.metrics import accuracy_score\n",
    "\n",
    "accuracy_score(clf.predict(X_test), y_test)"
   ]
  }
 ],
 "metadata": {
  "kernelspec": {
   "display_name": "Python 3 (ipykernel)",
   "language": "python",
   "name": "python3"
  },
  "language_info": {
   "codemirror_mode": {
    "name": "ipython",
    "version": 3
   },
   "file_extension": ".py",
   "mimetype": "text/x-python",
   "name": "python",
   "nbconvert_exporter": "python",
   "pygments_lexer": "ipython3",
   "version": "3.8.13"
  }
 },
 "nbformat": 4,
 "nbformat_minor": 5
}
